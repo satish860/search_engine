{
 "cells": [
  {
   "cell_type": "code",
   "execution_count": 31,
   "id": "382a8025-0d72-42a0-86b1-cc60a7410937",
   "metadata": {},
   "outputs": [],
   "source": [
    "import os\n",
    "directory = 'data/'\n",
    "sub_dir=[x[0] for x in os.walk(directory)]"
   ]
  },
  {
   "cell_type": "code",
   "execution_count": 33,
   "id": "1012cd53-c1ff-46f4-b633-bed827090344",
   "metadata": {},
   "outputs": [],
   "source": [
    "def convert_to_Path(sub_dir,files):\n",
    "    full_path =[]\n",
    "    for file in files:\n",
    "        full_path.append(os.path.join(sub_dir, file))\n",
    "    return full_path"
   ]
  },
  {
   "cell_type": "code",
   "execution_count": 32,
   "id": "df1a570a-1de0-4821-8beb-586c8977a376",
   "metadata": {},
   "outputs": [],
   "source": [
    "sub_dir_files=[convert_to_Path(x,os.listdir(x)) for x in sub_dir[1:len(sub_dir)]]"
   ]
  },
  {
   "cell_type": "markdown",
   "id": "528b8e92-4564-4743-9ed4-f611658568cd",
   "metadata": {},
   "source": [
    "# Move files into Train and Eval List"
   ]
  },
  {
   "cell_type": "code",
   "execution_count": 34,
   "id": "fd129e2d-5ed9-4ffb-b136-0174977c59b2",
   "metadata": {},
   "outputs": [],
   "source": [
    "flatten = []\n",
    "for sub_dir in sub_dir_files:\n",
    "    for files in sub_dir:\n",
    "        flatten.append(files)"
   ]
  },
  {
   "cell_type": "code",
   "execution_count": 35,
   "id": "44e392f3-ed32-4b20-bcab-7b099760f5c1",
   "metadata": {},
   "outputs": [
    {
     "data": {
      "text/plain": [
       "647500"
      ]
     },
     "execution_count": 35,
     "metadata": {},
     "output_type": "execute_result"
    }
   ],
   "source": [
    "len(flatten)"
   ]
  },
  {
   "cell_type": "code",
   "execution_count": 36,
   "id": "c7e199b7-0390-4686-8752-a95bd9c75733",
   "metadata": {},
   "outputs": [],
   "source": [
    "import pandas as pd"
   ]
  },
  {
   "cell_type": "code",
   "execution_count": 37,
   "id": "3f11c656-2c1c-43f0-8266-59b4401fabf6",
   "metadata": {},
   "outputs": [],
   "source": [
    "df = pd.DataFrame(flatten,columns=['file_path'])"
   ]
  },
  {
   "cell_type": "code",
   "execution_count": 38,
   "id": "4c0f403c-7f74-4679-a04c-e682ef038798",
   "metadata": {},
   "outputs": [
    {
     "data": {
      "text/plain": [
       "647500"
      ]
     },
     "execution_count": 38,
     "metadata": {},
     "output_type": "execute_result"
    }
   ],
   "source": [
    "len(df)"
   ]
  },
  {
   "cell_type": "code",
   "execution_count": 39,
   "id": "51addcdc-62df-44b5-a1ee-6cd1b567d017",
   "metadata": {},
   "outputs": [
    {
     "data": {
      "text/html": [
       "<div>\n",
       "<style scoped>\n",
       "    .dataframe tbody tr th:only-of-type {\n",
       "        vertical-align: middle;\n",
       "    }\n",
       "\n",
       "    .dataframe tbody tr th {\n",
       "        vertical-align: top;\n",
       "    }\n",
       "\n",
       "    .dataframe thead th {\n",
       "        text-align: right;\n",
       "    }\n",
       "</style>\n",
       "<table border=\"1\" class=\"dataframe\">\n",
       "  <thead>\n",
       "    <tr style=\"text-align: right;\">\n",
       "      <th></th>\n",
       "      <th>file_path</th>\n",
       "    </tr>\n",
       "  </thead>\n",
       "  <tbody>\n",
       "    <tr>\n",
       "      <th>0</th>\n",
       "      <td>data/2021-input-blog/https---blogs.vmware.com-...</td>\n",
       "    </tr>\n",
       "    <tr>\n",
       "      <th>1</th>\n",
       "      <td>data/2021-input-blog/https---blogs.vmware.com-...</td>\n",
       "    </tr>\n",
       "    <tr>\n",
       "      <th>2</th>\n",
       "      <td>data/2021-input-blog/https---blogs.vmware.com-...</td>\n",
       "    </tr>\n",
       "    <tr>\n",
       "      <th>3</th>\n",
       "      <td>data/2021-input-blog/https---blogs.vmware.com-...</td>\n",
       "    </tr>\n",
       "    <tr>\n",
       "      <th>4</th>\n",
       "      <td>data/2021-input-blog/https---blogs.vmware.com-...</td>\n",
       "    </tr>\n",
       "  </tbody>\n",
       "</table>\n",
       "</div>"
      ],
      "text/plain": [
       "                                           file_path\n",
       "0  data/2021-input-blog/https---blogs.vmware.com-...\n",
       "1  data/2021-input-blog/https---blogs.vmware.com-...\n",
       "2  data/2021-input-blog/https---blogs.vmware.com-...\n",
       "3  data/2021-input-blog/https---blogs.vmware.com-...\n",
       "4  data/2021-input-blog/https---blogs.vmware.com-..."
      ]
     },
     "execution_count": 39,
     "metadata": {},
     "output_type": "execute_result"
    }
   ],
   "source": [
    "df.head()"
   ]
  },
  {
   "cell_type": "code",
   "execution_count": null,
   "id": "e297eb37-e6a9-4eac-af61-d9b3b213b794",
   "metadata": {},
   "outputs": [],
   "source": []
  }
 ],
 "metadata": {
  "kernelspec": {
   "display_name": "Python 3 (ipykernel)",
   "language": "python",
   "name": "python3"
  },
  "language_info": {
   "codemirror_mode": {
    "name": "ipython",
    "version": 3
   },
   "file_extension": ".py",
   "mimetype": "text/x-python",
   "name": "python",
   "nbconvert_exporter": "python",
   "pygments_lexer": "ipython3",
   "version": "3.8.10"
  }
 },
 "nbformat": 4,
 "nbformat_minor": 5
}
