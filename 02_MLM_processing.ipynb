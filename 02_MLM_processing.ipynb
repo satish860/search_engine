{
 "cells": [
  {
   "cell_type": "code",
   "execution_count": 1,
   "id": "54fff567-5c7d-43ea-b45b-becc18952d58",
   "metadata": {},
   "outputs": [],
   "source": [
    "import pandas as pd"
   ]
  },
  {
   "cell_type": "code",
   "execution_count": 4,
   "id": "65367f5f-1562-4e7c-a0e1-8cb33ac2decd",
   "metadata": {},
   "outputs": [],
   "source": [
    "df=pd.read_csv('file_list.csv',index_col=0)"
   ]
  },
  {
   "cell_type": "code",
   "execution_count": 5,
   "id": "9d06b871-55fd-4c36-9fe4-b77fef95b0cc",
   "metadata": {},
   "outputs": [
    {
     "data": {
      "text/html": [
       "<div>\n",
       "<style scoped>\n",
       "    .dataframe tbody tr th:only-of-type {\n",
       "        vertical-align: middle;\n",
       "    }\n",
       "\n",
       "    .dataframe tbody tr th {\n",
       "        vertical-align: top;\n",
       "    }\n",
       "\n",
       "    .dataframe thead th {\n",
       "        text-align: right;\n",
       "    }\n",
       "</style>\n",
       "<table border=\"1\" class=\"dataframe\">\n",
       "  <thead>\n",
       "    <tr style=\"text-align: right;\">\n",
       "      <th></th>\n",
       "      <th>file_path</th>\n",
       "    </tr>\n",
       "  </thead>\n",
       "  <tbody>\n",
       "    <tr>\n",
       "      <th>0</th>\n",
       "      <td>data/2021-input-blog/https---blogs.vmware.com-...</td>\n",
       "    </tr>\n",
       "    <tr>\n",
       "      <th>1</th>\n",
       "      <td>data/2021-input-blog/https---blogs.vmware.com-...</td>\n",
       "    </tr>\n",
       "    <tr>\n",
       "      <th>2</th>\n",
       "      <td>data/2021-input-blog/https---blogs.vmware.com-...</td>\n",
       "    </tr>\n",
       "    <tr>\n",
       "      <th>3</th>\n",
       "      <td>data/2021-input-blog/https---blogs.vmware.com-...</td>\n",
       "    </tr>\n",
       "    <tr>\n",
       "      <th>4</th>\n",
       "      <td>data/2021-input-blog/https---blogs.vmware.com-...</td>\n",
       "    </tr>\n",
       "  </tbody>\n",
       "</table>\n",
       "</div>"
      ],
      "text/plain": [
       "                                           file_path\n",
       "0  data/2021-input-blog/https---blogs.vmware.com-...\n",
       "1  data/2021-input-blog/https---blogs.vmware.com-...\n",
       "2  data/2021-input-blog/https---blogs.vmware.com-...\n",
       "3  data/2021-input-blog/https---blogs.vmware.com-...\n",
       "4  data/2021-input-blog/https---blogs.vmware.com-..."
      ]
     },
     "execution_count": 5,
     "metadata": {},
     "output_type": "execute_result"
    }
   ],
   "source": [
    "df.head()"
   ]
  },
  {
   "cell_type": "code",
   "execution_count": 6,
   "id": "f6ae9aba-2ea9-48a4-9d70-51dacbf13da4",
   "metadata": {},
   "outputs": [],
   "source": [
    "from sklearn.model_selection import train_test_split"
   ]
  },
  {
   "cell_type": "code",
   "execution_count": 7,
   "id": "c0fe3f19-258e-4279-922e-0906e414c976",
   "metadata": {},
   "outputs": [],
   "source": [
    "train,test=train_test_split(df,test_size=0.3,random_state=42,shuffle=True)"
   ]
  },
  {
   "cell_type": "code",
   "execution_count": 10,
   "id": "d2c19909-4382-4312-b77b-9d34d6230668",
   "metadata": {},
   "outputs": [
    {
     "data": {
      "text/html": [
       "<div>\n",
       "<style scoped>\n",
       "    .dataframe tbody tr th:only-of-type {\n",
       "        vertical-align: middle;\n",
       "    }\n",
       "\n",
       "    .dataframe tbody tr th {\n",
       "        vertical-align: top;\n",
       "    }\n",
       "\n",
       "    .dataframe thead th {\n",
       "        text-align: right;\n",
       "    }\n",
       "</style>\n",
       "<table border=\"1\" class=\"dataframe\">\n",
       "  <thead>\n",
       "    <tr style=\"text-align: right;\">\n",
       "      <th></th>\n",
       "      <th>file_path</th>\n",
       "    </tr>\n",
       "  </thead>\n",
       "  <tbody>\n",
       "    <tr>\n",
       "      <th>274773</th>\n",
       "      <td>data/2021-input-docs/en-2021-VMware-Workspace-...</td>\n",
       "    </tr>\n",
       "    <tr>\n",
       "      <th>582838</th>\n",
       "      <td>data/2021-input-meta/en-2021-VMware-vSphere-5-...</td>\n",
       "    </tr>\n",
       "    <tr>\n",
       "      <th>231659</th>\n",
       "      <td>data/2021-input-docs/en-2021-VMware-Horizon-7-...</td>\n",
       "    </tr>\n",
       "    <tr>\n",
       "      <th>299092</th>\n",
       "      <td>data/2021-input-kb/83274.txt</td>\n",
       "    </tr>\n",
       "    <tr>\n",
       "      <th>59607</th>\n",
       "      <td>data/2021-input-docs/en-2021-VMware-Horizon-7-...</td>\n",
       "    </tr>\n",
       "  </tbody>\n",
       "</table>\n",
       "</div>"
      ],
      "text/plain": [
       "                                                file_path\n",
       "274773  data/2021-input-docs/en-2021-VMware-Workspace-...\n",
       "582838  data/2021-input-meta/en-2021-VMware-vSphere-5-...\n",
       "231659  data/2021-input-docs/en-2021-VMware-Horizon-7-...\n",
       "299092                       data/2021-input-kb/83274.txt\n",
       "59607   data/2021-input-docs/en-2021-VMware-Horizon-7-..."
      ]
     },
     "execution_count": 10,
     "metadata": {},
     "output_type": "execute_result"
    }
   ],
   "source": [
    "train.head()"
   ]
  },
  {
   "cell_type": "code",
   "execution_count": null,
   "id": "e51bb99b-9605-4c42-92e0-1e96b6ae041b",
   "metadata": {},
   "outputs": [],
   "source": [
    "train['fi'=train['file_path'].astype()"
   ]
  }
 ],
 "metadata": {
  "kernelspec": {
   "display_name": "Python 3 (ipykernel)",
   "language": "python",
   "name": "python3"
  },
  "language_info": {
   "codemirror_mode": {
    "name": "ipython",
    "version": 3
   },
   "file_extension": ".py",
   "mimetype": "text/x-python",
   "name": "python",
   "nbconvert_exporter": "python",
   "pygments_lexer": "ipython3",
   "version": "3.8.10"
  }
 },
 "nbformat": 4,
 "nbformat_minor": 5
}
